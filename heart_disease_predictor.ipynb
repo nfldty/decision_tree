{
 "cells": [
  {
   "cell_type": "code",
   "execution_count": null,
   "metadata": {},
   "outputs": [],
   "source": [
    "import pandas as pd\n",
    "import matplotlib.pyplot as plt\n",
    "import numpy as np\n",
    "\n",
    "df = pd.read_csv('data/heart.csv')\n",
    "\n",
    "pd.set\n",
    "print(df.head())\n",
    "print(df.columns)\n",
    "print(df.dtypes)"
   ]
  },
  {
   "cell_type": "code",
   "execution_count": null,
   "metadata": {},
   "outputs": [],
   "source": [
    "q1, q2, q3 = df.age.quantile([0.25, 0.5, 0.75])\n",
    "df['age_q1'] = [1 if x < q1 else 0 for x in df.age]\n",
    "df['age_q2'] = [1 if x < q2 and x <= q1 else 0 for x in df.age]\n",
    "df['age_q3'] = [1 if x < q3 and x <= q2 else 0 for x in df.age]\n",
    "df['age_q4'] = [1 if x >= q3 else 0 for x in df.age]\n"
   ]
  },
  {
   "cell_type": "code",
   "execution_count": null,
   "metadata": {},
   "outputs": [],
   "source": [
    "df = pd.get_dummies(df, columns=['cp', 'fbs', 'restecg', 'exang', 'slope', 'ca', 'thal', 'ca'], drop_first=True, dtype='int')\n",
    "\n"
   ]
  },
  {
   "cell_type": "code",
   "execution_count": null,
   "metadata": {},
   "outputs": [],
   "source": [
    "q1, q2, q3 = df.trestbps.quantile([0.25, 0.5, 0.75])\n",
    "df['trestbps_q1'] = [1 if x < q1 else 0 for x in df.trestbps]\n",
    "df['trestbps_q2'] = [1 if x < q2 and x <= q1 else 0 for x in df.trestbps]\n",
    "df['trestbps_q3'] = [1 if x < q3 and x <= q2 else 0 for x in df.trestbps]\n",
    "df['trestbps_q4'] = [1 if x >= q3 else 0 for x in df.trestbps]\n"
   ]
  },
  {
   "cell_type": "code",
   "execution_count": null,
   "metadata": {},
   "outputs": [],
   "source": [
    "q1, q2, q3 = df.thalach.quantile([0.25, 0.5, 0.75])\n",
    "df['thalach_q1'] = [1 if x < q1 else 0 for x in df.thalach]\n",
    "df['thalach_q2'] = [1 if x < q2 and x <= q1 else 0 for x in df.thalach]\n",
    "df['thalach_q3'] = [1 if x < q3 and x <= q2 else 0 for x in df.thalach]\n",
    "df['thalach_q4'] = [1 if x >= q3 else 0 for x in df.thalach]\n"
   ]
  },
  {
   "cell_type": "code",
   "execution_count": null,
   "metadata": {},
   "outputs": [],
   "source": [
    "q1, q2, q3 = df.oldpeak.quantile([0.25, 0.5, 0.75])\n",
    "df['oldpeak_q1'] = [1 if x < q1 else 0 for x in df.oldpeak]\n",
    "df['oldpeak_q2'] = [1 if x < q2 and x <= q1 else 0 for x in df.oldpeak]\n",
    "df['oldpeak_q3'] = [1 if x < q3 and x <= q2 else 0 for x in df.oldpeak]\n",
    "df['oldpeak_q4'] = [1 if x >= q3 else 0 for x in df.oldpeak]\n"
   ]
  },
  {
   "cell_type": "code",
   "execution_count": null,
   "metadata": {},
   "outputs": [],
   "source": [
    "df.drop(columns=['oldpeak' ,'chol', 'thalach', 'trestbps', 'age'], inplace=True)"
   ]
  },
  {
   "cell_type": "code",
   "execution_count": null,
   "metadata": {},
   "outputs": [],
   "source": [
    "print(df.head())\n",
    "print(df.columns)\n",
    "print(df.dtypes)"
   ]
  },
  {
   "cell_type": "code",
   "execution_count": null,
   "metadata": {},
   "outputs": [
    {
     "ename": "",
     "evalue": "",
     "output_type": "error",
     "traceback": [
      "\u001b[1;31mThe Kernel crashed while executing code in the the current cell or a previous cell. Please review the code in the cell(s) to identify a possible cause of the failure. Click <a href='https://aka.ms/vscodeJupyterKernelCrash'>here</a> for more info. View Jupyter <a href='command:jupyter.viewOutput'>log</a> for further details."
     ]
    }
   ],
   "source": [
    "print(df.sex.value_counts())"
   ]
  }
 ],
 "metadata": {
  "kernelspec": {
   "display_name": "Python 3",
   "language": "python",
   "name": "python3"
  },
  "language_info": {
   "codemirror_mode": {
    "name": "ipython",
    "version": 3
   },
   "file_extension": ".py",
   "mimetype": "text/x-python",
   "name": "python",
   "nbconvert_exporter": "python",
   "pygments_lexer": "ipython3",
   "version": "3.11.4"
  },
  "orig_nbformat": 4
 },
 "nbformat": 4,
 "nbformat_minor": 2
}
