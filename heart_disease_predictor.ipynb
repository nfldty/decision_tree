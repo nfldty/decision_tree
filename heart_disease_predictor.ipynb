{
 "cells": [
  {
   "cell_type": "code",
   "execution_count": 16,
   "metadata": {},
   "outputs": [
    {
     "name": "stdout",
     "output_type": "stream",
     "text": [
      "   age  sex  cp  trestbps  chol  fbs  restecg  thalach  exang  oldpeak  slope  \\\n",
      "0   52    1   0       125   212    0        1      168      0      1.0      2   \n",
      "1   53    1   0       140   203    1        0      155      1      3.1      0   \n",
      "2   70    1   0       145   174    0        1      125      1      2.6      0   \n",
      "3   61    1   0       148   203    0        1      161      0      0.0      2   \n",
      "4   62    0   0       138   294    1        1      106      0      1.9      1   \n",
      "\n",
      "   ca  thal  target  \n",
      "0   2     3       0  \n",
      "1   0     3       0  \n",
      "2   0     3       0  \n",
      "3   1     3       0  \n",
      "4   3     2       0  \n",
      "Index(['age', 'sex', 'cp', 'trestbps', 'chol', 'fbs', 'restecg', 'thalach',\n",
      "       'exang', 'oldpeak', 'slope', 'ca', 'thal', 'target'],\n",
      "      dtype='object')\n",
      "age           int64\n",
      "sex           int64\n",
      "cp            int64\n",
      "trestbps      int64\n",
      "chol          int64\n",
      "fbs           int64\n",
      "restecg       int64\n",
      "thalach       int64\n",
      "exang         int64\n",
      "oldpeak     float64\n",
      "slope         int64\n",
      "ca            int64\n",
      "thal          int64\n",
      "target        int64\n",
      "dtype: object\n"
     ]
    }
   ],
   "source": [
    "import pandas as pd\n",
    "import matplotlib.pyplot as plt\n",
    "import numpy as np\n",
    "from decision_tree import DecisionTree\n",
    "from sklearn.model_selection import train_test_split\n",
    "\n",
    "\n",
    "df = pd.read_csv('data/heart.csv')\n",
    "\n",
    "\n",
    "print(df.head())\n",
    "print(df.columns)\n",
    "print(df.dtypes)"
   ]
  },
  {
   "cell_type": "code",
   "execution_count": 17,
   "metadata": {},
   "outputs": [],
   "source": [
    "q1, q2, q3 = df.age.quantile([0.25, 0.5, 0.75])\n",
    "df['age_q1'] = [1 if x < q1 else 0 for x in df.age]\n",
    "df['age_q2'] = [1 if x < q2 and x <= q1 else 0 for x in df.age]\n",
    "df['age_q3'] = [1 if x < q3 and x <= q2 else 0 for x in df.age]\n",
    "df['age_q4'] = [1 if x >= q3 else 0 for x in df.age]\n"
   ]
  },
  {
   "cell_type": "code",
   "execution_count": 18,
   "metadata": {},
   "outputs": [],
   "source": [
    "df = pd.get_dummies(df, columns=['cp', 'fbs', 'restecg', 'exang', 'slope', 'ca', 'thal'], drop_first=True, dtype='int')\n",
    "\n"
   ]
  },
  {
   "cell_type": "code",
   "execution_count": 19,
   "metadata": {},
   "outputs": [],
   "source": [
    "q1, q2, q3 = df.trestbps.quantile([0.25, 0.5, 0.75])\n",
    "df['trestbps_q1'] = [1 if x < q1 else 0 for x in df.trestbps]\n",
    "df['trestbps_q2'] = [1 if x < q2 and x <= q1 else 0 for x in df.trestbps]\n",
    "df['trestbps_q3'] = [1 if x < q3 and x <= q2 else 0 for x in df.trestbps]\n",
    "df['trestbps_q4'] = [1 if x >= q3 else 0 for x in df.trestbps]\n"
   ]
  },
  {
   "cell_type": "code",
   "execution_count": 20,
   "metadata": {},
   "outputs": [],
   "source": [
    "q1, q2, q3 = df.thalach.quantile([0.25, 0.5, 0.75])\n",
    "df['thalach_q1'] = [1 if x < q1 else 0 for x in df.thalach]\n",
    "df['thalach_q2'] = [1 if x < q2 and x <= q1 else 0 for x in df.thalach]\n",
    "df['thalach_q3'] = [1 if x < q3 and x <= q2 else 0 for x in df.thalach]\n",
    "df['thalach_q4'] = [1 if x >= q3 else 0 for x in df.thalach]\n"
   ]
  },
  {
   "cell_type": "code",
   "execution_count": 21,
   "metadata": {},
   "outputs": [],
   "source": [
    "q1, q2, q3 = df.oldpeak.quantile([0.25, 0.5, 0.75])\n",
    "df['oldpeak_q1'] = [1 if x < q1 else 0 for x in df.oldpeak]\n",
    "df['oldpeak_q2'] = [1 if x < q2 and x <= q1 else 0 for x in df.oldpeak]\n",
    "df['oldpeak_q3'] = [1 if x < q3 and x <= q2 else 0 for x in df.oldpeak]\n",
    "df['oldpeak_q4'] = [1 if x >= q3 else 0 for x in df.oldpeak]\n"
   ]
  },
  {
   "cell_type": "code",
   "execution_count": 22,
   "metadata": {},
   "outputs": [],
   "source": [
    "df.drop(columns=['oldpeak' ,'chol', 'thalach', 'trestbps', 'age'], inplace=True)"
   ]
  },
  {
   "cell_type": "code",
   "execution_count": 23,
   "metadata": {},
   "outputs": [
    {
     "name": "stdout",
     "output_type": "stream",
     "text": [
      "   sex  target  age_q1  age_q2  age_q3  age_q4  cp_1  cp_2  cp_3  fbs_1  ...  \\\n",
      "0    1       0       0       0       1       0     0     0     0      0  ...   \n",
      "1    1       0       0       0       1       0     0     0     0      1  ...   \n",
      "2    1       0       0       0       0       1     0     0     0      0  ...   \n",
      "3    1       0       0       0       0       1     0     0     0      0  ...   \n",
      "4    0       0       0       0       0       1     0     0     0      1  ...   \n",
      "\n",
      "   trestbps_q3  trestbps_q4  thalach_q1  thalach_q2  thalach_q3  thalach_q4  \\\n",
      "0            1            0           0           0           0           1   \n",
      "1            0            1           0           0           0           0   \n",
      "2            0            1           1           1           1           0   \n",
      "3            0            1           0           0           0           0   \n",
      "4            0            0           1           1           1           0   \n",
      "\n",
      "   oldpeak_q1  oldpeak_q2  oldpeak_q3  oldpeak_q4  \n",
      "0           0           0           0           0  \n",
      "1           0           0           0           1  \n",
      "2           0           0           0           1  \n",
      "3           0           1           1           0  \n",
      "4           0           0           0           1  \n",
      "\n",
      "[5 rows x 38 columns]\n",
      "Index(['sex', 'target', 'age_q1', 'age_q2', 'age_q3', 'age_q4', 'cp_1', 'cp_2',\n",
      "       'cp_3', 'fbs_1', 'restecg_1', 'restecg_2', 'exang_1', 'slope_1',\n",
      "       'slope_2', 'ca_1', 'ca_2', 'ca_3', 'ca_4', 'thal_1', 'thal_2', 'thal_3',\n",
      "       'ca_1', 'ca_2', 'ca_3', 'ca_4', 'trestbps_q1', 'trestbps_q2',\n",
      "       'trestbps_q3', 'trestbps_q4', 'thalach_q1', 'thalach_q2', 'thalach_q3',\n",
      "       'thalach_q4', 'oldpeak_q1', 'oldpeak_q2', 'oldpeak_q3', 'oldpeak_q4'],\n",
      "      dtype='object')\n",
      "sex            int64\n",
      "target         int64\n",
      "age_q1         int64\n",
      "age_q2         int64\n",
      "age_q3         int64\n",
      "age_q4         int64\n",
      "cp_1           int64\n",
      "cp_2           int64\n",
      "cp_3           int64\n",
      "fbs_1          int64\n",
      "restecg_1      int64\n",
      "restecg_2      int64\n",
      "exang_1        int64\n",
      "slope_1        int64\n",
      "slope_2        int64\n",
      "ca_1           int64\n",
      "ca_2           int64\n",
      "ca_3           int64\n",
      "ca_4           int64\n",
      "thal_1         int64\n",
      "thal_2         int64\n",
      "thal_3         int64\n",
      "ca_1           int64\n",
      "ca_2           int64\n",
      "ca_3           int64\n",
      "ca_4           int64\n",
      "trestbps_q1    int64\n",
      "trestbps_q2    int64\n",
      "trestbps_q3    int64\n",
      "trestbps_q4    int64\n",
      "thalach_q1     int64\n",
      "thalach_q2     int64\n",
      "thalach_q3     int64\n",
      "thalach_q4     int64\n",
      "oldpeak_q1     int64\n",
      "oldpeak_q2     int64\n",
      "oldpeak_q3     int64\n",
      "oldpeak_q4     int64\n",
      "dtype: object\n"
     ]
    }
   ],
   "source": [
    "print(df.head())\n",
    "print(df.columns)\n",
    "print(df.dtypes)"
   ]
  },
  {
   "cell_type": "code",
   "execution_count": 24,
   "metadata": {
    "scrolled": true
   },
   "outputs": [
    {
     "name": "stdout",
     "output_type": "stream",
     "text": [
      "1    713\n",
      "0    312\n",
      "Name: sex, dtype: int64\n"
     ]
    }
   ],
   "source": [
    "print(df.sex.value_counts())"
   ]
  },
  {
   "cell_type": "code",
   "execution_count": 28,
   "metadata": {},
   "outputs": [],
   "source": [
    "X_train, X_test, y_train, y_test = train_test_split(df.drop(columns='target'), df['target'], test_size=0.3 ,random_state=10)"
   ]
  },
  {
   "cell_type": "code",
   "execution_count": 29,
   "metadata": {},
   "outputs": [
    {
     "ename": "ValueError",
     "evalue": "The truth value of a Series is ambiguous. Use a.empty, a.bool(), a.item(), a.any() or a.all().",
     "output_type": "error",
     "traceback": [
      "\u001b[0;31m---------------------------------------------------------------------------\u001b[0m",
      "\u001b[0;31mValueError\u001b[0m                                Traceback (most recent call last)",
      "Cell \u001b[0;32mIn[29], line 2\u001b[0m\n\u001b[1;32m      1\u001b[0m model \u001b[38;5;241m=\u001b[39m DecisionTree()\n\u001b[0;32m----> 2\u001b[0m \u001b[43mmodel\u001b[49m\u001b[38;5;241;43m.\u001b[39;49m\u001b[43mfit\u001b[49m\u001b[43m(\u001b[49m\u001b[43mX_train\u001b[49m\u001b[43m,\u001b[49m\u001b[43m \u001b[49m\u001b[43my_train\u001b[49m\u001b[43m)\u001b[49m\n\u001b[1;32m      3\u001b[0m \u001b[38;5;28mprint\u001b[39m(X_train\u001b[38;5;241m.\u001b[39mhead())\n\u001b[1;32m      4\u001b[0m \u001b[38;5;28mprint\u001b[39m(y_train\u001b[38;5;241m.\u001b[39mhead())\n",
      "File \u001b[0;32m~/Coding/Coursera/decision_tree/decision_tree.py:84\u001b[0m, in \u001b[0;36mDecisionTree.fit\u001b[0;34m(self, X, y)\u001b[0m\n\u001b[1;32m     81\u001b[0m \u001b[38;5;28;01mfor\u001b[39;00m i \u001b[38;5;129;01min\u001b[39;00m \u001b[38;5;28mrange\u001b[39m(m):\n\u001b[1;32m     82\u001b[0m     row \u001b[38;5;241m=\u001b[39m X\u001b[38;5;241m.\u001b[39miloc[i, :]\n\u001b[0;32m---> 84\u001b[0m     \u001b[38;5;28;01mif\u001b[39;00m row[feature] \u001b[38;5;241m==\u001b[39m \u001b[38;5;241m1\u001b[39m:\n\u001b[1;32m     85\u001b[0m         left_true \u001b[38;5;241m+\u001b[39m\u001b[38;5;241m=\u001b[39m y\u001b[38;5;241m.\u001b[39miloc[i]\n\u001b[1;32m     86\u001b[0m         left_total \u001b[38;5;241m+\u001b[39m\u001b[38;5;241m=\u001b[39m \u001b[38;5;241m1\u001b[39m\n",
      "File \u001b[0;32m~/anaconda3/lib/python3.10/site-packages/pandas/core/generic.py:1527\u001b[0m, in \u001b[0;36mNDFrame.__nonzero__\u001b[0;34m(self)\u001b[0m\n\u001b[1;32m   1525\u001b[0m \u001b[38;5;129m@final\u001b[39m\n\u001b[1;32m   1526\u001b[0m \u001b[38;5;28;01mdef\u001b[39;00m \u001b[38;5;21m__nonzero__\u001b[39m(\u001b[38;5;28mself\u001b[39m) \u001b[38;5;241m-\u001b[39m\u001b[38;5;241m>\u001b[39m NoReturn:\n\u001b[0;32m-> 1527\u001b[0m     \u001b[38;5;28;01mraise\u001b[39;00m \u001b[38;5;167;01mValueError\u001b[39;00m(\n\u001b[1;32m   1528\u001b[0m         \u001b[38;5;124mf\u001b[39m\u001b[38;5;124m\"\u001b[39m\u001b[38;5;124mThe truth value of a \u001b[39m\u001b[38;5;132;01m{\u001b[39;00m\u001b[38;5;28mtype\u001b[39m(\u001b[38;5;28mself\u001b[39m)\u001b[38;5;241m.\u001b[39m\u001b[38;5;18m__name__\u001b[39m\u001b[38;5;132;01m}\u001b[39;00m\u001b[38;5;124m is ambiguous. \u001b[39m\u001b[38;5;124m\"\u001b[39m\n\u001b[1;32m   1529\u001b[0m         \u001b[38;5;124m\"\u001b[39m\u001b[38;5;124mUse a.empty, a.bool(), a.item(), a.any() or a.all().\u001b[39m\u001b[38;5;124m\"\u001b[39m\n\u001b[1;32m   1530\u001b[0m     )\n",
      "\u001b[0;31mValueError\u001b[0m: The truth value of a Series is ambiguous. Use a.empty, a.bool(), a.item(), a.any() or a.all()."
     ]
    }
   ],
   "source": [
    "model = DecisionTree()\n",
    "model.fit(X_train, y_train)\n",
    "print(X_train.head())\n",
    "print(y_train.head())\n",
    "print(model.accuracy(X_test, y_test))"
   ]
  },
  {
   "cell_type": "code",
   "execution_count": null,
   "metadata": {},
   "outputs": [],
   "source": []
  }
 ],
 "metadata": {
  "kernelspec": {
   "display_name": "Python 3 (ipykernel)",
   "language": "python",
   "name": "python3"
  },
  "language_info": {
   "codemirror_mode": {
    "name": "ipython",
    "version": 3
   },
   "file_extension": ".py",
   "mimetype": "text/x-python",
   "name": "python",
   "nbconvert_exporter": "python",
   "pygments_lexer": "ipython3",
   "version": "3.10.9"
  }
 },
 "nbformat": 4,
 "nbformat_minor": 2
}
